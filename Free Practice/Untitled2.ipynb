{
 "cells": [
  {
   "cell_type": "code",
   "execution_count": 27,
   "metadata": {},
   "outputs": [
    {
     "name": "stdout",
     "output_type": "stream",
     "text": [
      "Raymon Anthony Doane\n"
     ]
    }
   ],
   "source": [
    "import csv\n",
    "import os\n",
    "\n",
    "DataElect = os.path.join(\"Resources\",\"election_results.csv\")\n",
    "\n",
    "DataSave = os.path.join(\"Analysis\",\"election_analysis.txt\")\n",
    "\n",
    "total_votes = 0\n",
    "\n",
    "candidate_options = []\n",
    "\n",
    "with open(DataElect) as election_data:\n",
    "    file_reader = csv.reader(election_data)\n",
    "\n",
    "    headers = next(file_reader)\n",
    "    \n",
    "    for row in file_reader:\n",
    "        total_votes += 1\n",
    "#print candidate name from each row\n",
    "        candidate_name = row[2]\n",
    "#add the candidate name to the candidate list\n",
    "        candidate_options.append(candidate_name)\n",
    "#print the candidate list\n",
    "\n",
    "print(candidate_name)\n"
   ]
  },
  {
   "cell_type": "code",
   "execution_count": null,
   "metadata": {},
   "outputs": [],
   "source": []
  }
 ],
 "metadata": {
  "kernelspec": {
   "display_name": "PythonData",
   "language": "python",
   "name": "pythondata"
  },
  "language_info": {
   "codemirror_mode": {
    "name": "ipython",
    "version": 3
   },
   "file_extension": ".py",
   "mimetype": "text/x-python",
   "name": "python",
   "nbconvert_exporter": "python",
   "pygments_lexer": "ipython3",
   "version": "3.8.5"
  }
 },
 "nbformat": 4,
 "nbformat_minor": 4
}
