{
 "cells": [
  {
   "cell_type": "code",
   "execution_count": 10,
   "metadata": {},
   "outputs": [
    {
     "name": "stdout",
     "output_type": "stream",
     "text": [
      "Raymon Anthony Doane\n"
     ]
    }
   ],
   "source": [
    "import csv\n",
    "import os\n",
    "\n",
    "DataElect = os.path.join(\"Resources\",\"election_results.csv\")\n",
    "\n",
    "DataSave = os.path.join(\"Analysis\",\"election_analysis.txt\")\n",
    "\n",
    "total_votes = 0\n",
    "\n",
    "candidate_options = []\n",
    "\n",
    "candidate_votes = {}\n",
    "\n",
    "#Last Step\n",
    "#Winning candidate and winning count tracker\n",
    "\n",
    "winning_candidate = \"\"\n",
    "winning_count = 0\n",
    "winning_percentage = 0\n",
    "\n",
    "with open(DataElect) as election_data:\n",
    "\n",
    "    file_reader = csv.reader(election_data)\n",
    "\n",
    "    headers = next(file_reader)\n",
    "\n",
    "    for row in file_reader:\n",
    "            total_votes +=1\n",
    "#Print the candidate name from each row\n",
    "            candidate_name = row[2]\n",
    "#Add the candidate name to the candidate list\n",
    "            if candidate_name not in candidate_options:\n",
    "                    candidate_options.append(candidate_name)\n",
    "#Create each candidate as a key and to begin tracking a candidate's vote count\n",
    "                    candidate_votes[candidate_name]= 0\n",
    "#To add a vote to that candidate's count\n",
    "            candidate_votes[candidate_name] += 1\n",
    "    \n",
    "print(candidate_name)"
   ]
  },
  {
   "cell_type": "code",
   "execution_count": null,
   "metadata": {},
   "outputs": [],
   "source": []
  },
  {
   "cell_type": "code",
   "execution_count": null,
   "metadata": {},
   "outputs": [],
   "source": []
  }
 ],
 "metadata": {
  "kernelspec": {
   "display_name": "PythonData",
   "language": "python",
   "name": "pythondata"
  },
  "language_info": {
   "codemirror_mode": {
    "name": "ipython",
    "version": 3
   },
   "file_extension": ".py",
   "mimetype": "text/x-python",
   "name": "python",
   "nbconvert_exporter": "python",
   "pygments_lexer": "ipython3",
   "version": "3.8.5"
  }
 },
 "nbformat": 4,
 "nbformat_minor": 4
}
