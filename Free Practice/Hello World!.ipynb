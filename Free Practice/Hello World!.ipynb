{
 "cells": [
  {
   "cell_type": "code",
   "execution_count": 10,
   "metadata": {},
   "outputs": [
    {
     "name": "stdout",
     "output_type": "stream",
     "text": [
      "Francis\n",
      "Canada\n",
      "35\n",
      "235\n",
      "1880\n",
      "686200\n"
     ]
    }
   ],
   "source": [
    "name = \"Francis\"  \n",
    "country = \"Canada\"\n",
    "age = 35\n",
    "hourlywage = 235\n",
    "satisfied = True\n",
    "dailywage= hourlywage*8\n",
    "yearlysalary= dailywage*365\n",
    "\n",
    "print(name)\n",
    "print(country)\n",
    "print(age)\n",
    "print(hourlywage)\n",
    "print(dailywage)\n",
    "print(yearlysalary)"
   ]
  },
  {
   "cell_type": "code",
   "execution_count": 20,
   "metadata": {},
   "outputs": [
    {
     "data": {
      "text/plain": [
       "'Hello my name is Francis , and I live in Canada.'"
      ]
     },
     "execution_count": 20,
     "metadata": {},
     "output_type": "execute_result"
    }
   ],
   "source": [
    "\"Hello my name is {} , and I live in {}.\".format(name, country)"
   ]
  },
  {
   "cell_type": "code",
   "execution_count": 25,
   "metadata": {},
   "outputs": [
    {
     "data": {
      "text/plain": [
       "'I am 35 , and I make 1880 per day'"
      ]
     },
     "execution_count": 25,
     "metadata": {},
     "output_type": "execute_result"
    }
   ],
   "source": [
    "\"I am {} , and I make {} per day\".format(age,dailywage)"
   ]
  },
  {
   "cell_type": "code",
   "execution_count": 24,
   "metadata": {},
   "outputs": [
    {
     "data": {
      "text/plain": [
       "'Hello, my name is Francis. I am 35 years old and currently live in Canada'"
      ]
     },
     "execution_count": 24,
     "metadata": {},
     "output_type": "execute_result"
    }
   ],
   "source": [
    "#Using the f function\n",
    "\n",
    "f\"Hello, my name is {name}. I am {age} years old and currently live in {country}\""
   ]
  },
  {
   "cell_type": "code",
   "execution_count": null,
   "metadata": {},
   "outputs": [],
   "source": []
  }
 ],
 "metadata": {
  "kernelspec": {
   "display_name": "Python 3",
   "language": "python",
   "name": "python3"
  },
  "language_info": {
   "codemirror_mode": {
    "name": "ipython",
    "version": 3
   },
   "file_extension": ".py",
   "mimetype": "text/x-python",
   "name": "python",
   "nbconvert_exporter": "python",
   "pygments_lexer": "ipython3",
   "version": "3.8.5"
  }
 },
 "nbformat": 4,
 "nbformat_minor": 4
}
