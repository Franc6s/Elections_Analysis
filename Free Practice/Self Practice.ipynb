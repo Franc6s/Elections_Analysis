{
 "cells": [
  {
   "cell_type": "code",
   "execution_count": 1,
   "metadata": {},
   "outputs": [
    {
     "name": "stdout",
     "output_type": "stream",
     "text": [
      "7\n"
     ]
    }
   ],
   "source": [
    "myint=7\n",
    "print(myint)"
   ]
  },
  {
   "cell_type": "code",
   "execution_count": 2,
   "metadata": {},
   "outputs": [
    {
     "name": "stdout",
     "output_type": "stream",
     "text": [
      "7.0\n"
     ]
    }
   ],
   "source": [
    "myfloat=7.0\n",
    "print(myfloat)\n"
   ]
  },
  {
   "cell_type": "code",
   "execution_count": 3,
   "metadata": {},
   "outputs": [
    {
     "name": "stdout",
     "output_type": "stream",
     "text": [
      "Don't worry about apostrophes\n"
     ]
    }
   ],
   "source": [
    "mystring=\"Don't worry about apostrophes\"\n",
    "print(mystring)"
   ]
  },
  {
   "cell_type": "code",
   "execution_count": 4,
   "metadata": {},
   "outputs": [
    {
     "name": "stdout",
     "output_type": "stream",
     "text": [
      "3\n"
     ]
    }
   ],
   "source": [
    "one=1\n",
    "two=2\n",
    "three= one+two\n",
    "print(three)"
   ]
  },
  {
   "cell_type": "code",
   "execution_count": 5,
   "metadata": {},
   "outputs": [
    {
     "name": "stdout",
     "output_type": "stream",
     "text": [
      "hello world\n"
     ]
    }
   ],
   "source": [
    "hello = \"hello\"\n",
    "world = \"world\"\n",
    "helloworld = hello + \" \" + world\n",
    "print(helloworld)"
   ]
  },
  {
   "cell_type": "code",
   "execution_count": 6,
   "metadata": {},
   "outputs": [
    {
     "name": "stdout",
     "output_type": "stream",
     "text": [
      "3 4\n"
     ]
    }
   ],
   "source": [
    "a,b = 3,4\n",
    "print(a,b)"
   ]
  },
  {
   "cell_type": "code",
   "execution_count": 8,
   "metadata": {},
   "outputs": [
    {
     "name": "stdout",
     "output_type": "stream",
     "text": [
      "4\n"
     ]
    }
   ],
   "source": [
    "x=24\n",
    "y=5\n",
    "print(x%y)"
   ]
  },
  {
   "cell_type": "code",
   "execution_count": 10,
   "metadata": {},
   "outputs": [
    {
     "name": "stdout",
     "output_type": "stream",
     "text": [
      "5\n"
     ]
    }
   ],
   "source": [
    "x=28\n",
    "y=5\n",
    "print(x//y)"
   ]
  },
  {
   "cell_type": "code",
   "execution_count": 11,
   "metadata": {},
   "outputs": [
    {
     "name": "stdout",
     "output_type": "stream",
     "text": [
      "625\n"
     ]
    }
   ],
   "source": [
    "x=5\n",
    "y=4\n",
    "print(x**y)"
   ]
  },
  {
   "cell_type": "code",
   "execution_count": 12,
   "metadata": {},
   "outputs": [
    {
     "data": {
      "text/plain": [
       "11"
      ]
     },
     "execution_count": 12,
     "metadata": {},
     "output_type": "execute_result"
    }
   ],
   "source": [
    "5+2*3"
   ]
  },
  {
   "cell_type": "code",
   "execution_count": 13,
   "metadata": {},
   "outputs": [
    {
     "data": {
      "text/plain": [
       "-2"
      ]
     },
     "execution_count": 13,
     "metadata": {},
     "output_type": "execute_result"
    }
   ],
   "source": [
    "8//5-3"
   ]
  },
  {
   "cell_type": "code",
   "execution_count": 16,
   "metadata": {},
   "outputs": [
    {
     "data": {
      "text/plain": [
       "48"
      ]
     },
     "execution_count": 16,
     "metadata": {},
     "output_type": "execute_result"
    }
   ],
   "source": [
    "8+22*2-4"
   ]
  },
  {
   "cell_type": "code",
   "execution_count": 17,
   "metadata": {},
   "outputs": [
    {
     "data": {
      "text/plain": [
       "2"
      ]
     },
     "execution_count": 17,
     "metadata": {},
     "output_type": "execute_result"
    }
   ],
   "source": [
    "3**3%5"
   ]
  },
  {
   "cell_type": "code",
   "execution_count": 20,
   "metadata": {},
   "outputs": [
    {
     "data": {
      "text/plain": [
       "27"
      ]
     },
     "execution_count": 20,
     "metadata": {},
     "output_type": "execute_result"
    }
   ],
   "source": [
    "3**3"
   ]
  },
  {
   "cell_type": "code",
   "execution_count": 33,
   "metadata": {},
   "outputs": [
    {
     "data": {
      "text/plain": [
       "14.5"
      ]
     },
     "execution_count": 33,
     "metadata": {},
     "output_type": "execute_result"
    }
   ],
   "source": [
    "5+(9*3/2-4)"
   ]
  },
  {
   "cell_type": "code",
   "execution_count": 22,
   "metadata": {},
   "outputs": [
    {
     "data": {
      "text/plain": [
       "-8.5"
      ]
     },
     "execution_count": 22,
     "metadata": {},
     "output_type": "execute_result"
    }
   ],
   "source": [
    "5+(9*3/(2-4))"
   ]
  },
  {
   "cell_type": "code",
   "execution_count": 25,
   "metadata": {},
   "outputs": [
    {
     "name": "stdout",
     "output_type": "stream",
     "text": [
      "-8.5\n"
     ]
    }
   ],
   "source": [
    "x=9*-1.5\n",
    "print(x+5)"
   ]
  },
  {
   "cell_type": "code",
   "execution_count": 65,
   "metadata": {},
   "outputs": [
    {
     "name": "stdout",
     "output_type": "stream",
     "text": [
      "['Arapahoe', 'Denver', 'Jefferson', 'El Paso']\n",
      "Jefferson\n",
      "['Arapahoe', 'Denver']\n"
     ]
    },
    {
     "data": {
      "text/plain": [
       "['Arapahoe', 'Denver', 'Jefferson', 'El Paso']"
      ]
     },
     "execution_count": 65,
     "metadata": {},
     "output_type": "execute_result"
    }
   ],
   "source": [
    "\"Create a list\"\n",
    "counties = [\"Arapahoe\",\"Denver\",\"Jefferson\"]\n",
    "counties.append(\"El Paso\")\n",
    "my_list=list(counties)\n",
    "print(my_list) \n",
    "print(counties[2]) \n",
    "len(counties)  \n",
    "print(counties [0 : 2])  \n",
    "list(counties)"
   ]
  },
  {
   "cell_type": "code",
   "execution_count": 60,
   "metadata": {},
   "outputs": [
    {
     "data": {
      "text/plain": [
       "3"
      ]
     },
     "execution_count": 60,
     "metadata": {},
     "output_type": "execute_result"
    }
   ],
   "source": [
    "counties = [\"Arapahoe\",\"Denver\",\"Jefferson\"]\n",
    "len(counties)"
   ]
  },
  {
   "cell_type": "code",
   "execution_count": 68,
   "metadata": {},
   "outputs": [
    {
     "name": "stdout",
     "output_type": "stream",
     "text": [
      "['Arapahoe', 'Denver', 'Jefferson', 'El Paso']\n",
      "['Arapahoe', 'Denver', 'Jefferson']\n"
     ]
    }
   ],
   "source": [
    "\"Remove an object\"\n",
    "counties = [\"Arapahoe\",\"Denver\",\"Jefferson\"]\n",
    "counties.append(\"El Paso\")\n",
    "print(counties)\n",
    "counties.remove(\"El Paso\")\n",
    "print(counties)"
   ]
  },
  {
   "cell_type": "code",
   "execution_count": 69,
   "metadata": {},
   "outputs": [
    {
     "name": "stdout",
     "output_type": "stream",
     "text": [
      "['Arapahoe', 'Denver', 'Jefferson']\n"
     ]
    }
   ],
   "source": [
    "\"Remove an object using pop function\"\n",
    "counties = [\"Arapahoe\",\"Denver\",\"Jefferson\"]\n",
    "counties.append(\"El Paso\")\n",
    "counties.pop(3)\n",
    "print(counties)"
   ]
  },
  {
   "cell_type": "code",
   "execution_count": 70,
   "metadata": {},
   "outputs": [
    {
     "data": {
      "text/plain": [
       "'El Paso'"
      ]
     },
     "execution_count": 70,
     "metadata": {},
     "output_type": "execute_result"
    }
   ],
   "source": [
    "counties = [\"Arapahoe\", \"Denver\", \"Jefferson\", \"El Paso\"]\n",
    "counties.pop(3)"
   ]
  },
  {
   "cell_type": "code",
   "execution_count": 74,
   "metadata": {},
   "outputs": [
    {
     "name": "stdout",
     "output_type": "stream",
     "text": [
      "['Arapahoe', 'Denver', 'Jefferson']\n",
      "['Arapahoe', 'El Paso', 'Jefferson']\n"
     ]
    }
   ],
   "source": [
    "\"Changing an item in the list\"\n",
    "counties = [\"Arapahoe\", \"Denver\", \"Jefferson\", \"El Paso\"]\n",
    "counties.pop(3)\n",
    "print (counties)\n",
    "counties[1]=\"El Paso\"\n",
    "print (counties)"
   ]
  },
  {
   "cell_type": "code",
   "execution_count": 85,
   "metadata": {
    "scrolled": true
   },
   "outputs": [
    {
     "name": "stdout",
     "output_type": "stream",
     "text": [
      "['Arapahoe', 'Denver', 'Jefferson', 'El Paso']\n",
      "['Denver', 'Jefferson', 'El Paso']\n"
     ]
    }
   ],
   "source": [
    "counties = [\"Arapahoe\", \"Denver\", \"Jefferson\"]\n",
    "counties.append(\"El Paso\")\n",
    "print(counties)\n",
    "counties.pop(0)\n",
    "print(counties)\n"
   ]
  },
  {
   "cell_type": "code",
   "execution_count": 3,
   "metadata": {},
   "outputs": [
    {
     "data": {
      "text/plain": [
       "3"
      ]
     },
     "execution_count": 3,
     "metadata": {},
     "output_type": "execute_result"
    }
   ],
   "source": [
    "counties_tuple = (\"Arapahoe\",\"Denver\",\"Jefferson\")\n",
    "len(counties_tuple)"
   ]
  },
  {
   "cell_type": "code",
   "execution_count": 4,
   "metadata": {},
   "outputs": [
    {
     "data": {
      "text/plain": [
       "'Denver'"
      ]
     },
     "execution_count": 4,
     "metadata": {},
     "output_type": "execute_result"
    }
   ],
   "source": [
    "counties_tuple = (\"Arapahoe\",\"Denver\",\"Jefferson\")\n",
    "counties_tuple[1]"
   ]
  },
  {
   "cell_type": "code",
   "execution_count": 22,
   "metadata": {},
   "outputs": [],
   "source": [
    "\"To store Data\"\n",
    "\n",
    "counties_tuple = (\"Arapahoe\",\"Denver\",\"Jefferson\")"
   ]
  },
  {
   "cell_type": "code",
   "execution_count": 25,
   "metadata": {},
   "outputs": [
    {
     "data": {
      "text/plain": [
       "{'Arapahoe': 422829, 'Denver': 463353, 'Jefferson': 432438}"
      ]
     },
     "execution_count": 25,
     "metadata": {},
     "output_type": "execute_result"
    }
   ],
   "source": [
    "'Create a Dictionary'\n",
    "\n",
    "counties_dict={}\n",
    "counties_dict[\"Arapahoe\"]=422829\n",
    "counties_dict[\"Denver\"]=463353\n",
    "counties_dict[\"Jefferson\"]=432438\n",
    "counties_dict"
   ]
  },
  {
   "cell_type": "code",
   "execution_count": 28,
   "metadata": {},
   "outputs": [
    {
     "data": {
      "text/plain": [
       "3"
      ]
     },
     "execution_count": 28,
     "metadata": {},
     "output_type": "execute_result"
    }
   ],
   "source": [
    "counties_dict={}\n",
    "counties_dict[\"Arapahoe\"]=422829\n",
    "counties_dict[\"Denver\"]=463353\n",
    "counties_dict[\"Jefferson\"]=432438\n",
    "len(counties_dict)\n"
   ]
  },
  {
   "cell_type": "code",
   "execution_count": 29,
   "metadata": {},
   "outputs": [
    {
     "data": {
      "text/plain": [
       "dict_items([('Arapahoe', 422829), ('Denver', 463353), ('Jefferson', 432438)])"
      ]
     },
     "execution_count": 29,
     "metadata": {},
     "output_type": "execute_result"
    }
   ],
   "source": [
    "\"Use the items() function to return a list\"\n",
    "counties_dict={}\n",
    "counties_dict[\"Arapahoe\"]=422829\n",
    "counties_dict[\"Denver\"]=463353\n",
    "counties_dict[\"Jefferson\"]=432438\n",
    "counties_dict.items()"
   ]
  },
  {
   "cell_type": "code",
   "execution_count": 30,
   "metadata": {},
   "outputs": [
    {
     "data": {
      "text/plain": [
       "dict_keys(['Arapahoe', 'Denver', 'Jefferson'])"
      ]
     },
     "execution_count": 30,
     "metadata": {},
     "output_type": "execute_result"
    }
   ],
   "source": [
    "\"Use the key() function to return the keys only\"\n",
    "counties_dict={}\n",
    "counties_dict[\"Arapahoe\"]=422829\n",
    "counties_dict[\"Denver\"]=463353\n",
    "counties_dict[\"Jefferson\"]=432438\n",
    "counties_dict.keys()\n"
   ]
  },
  {
   "cell_type": "code",
   "execution_count": 32,
   "metadata": {},
   "outputs": [
    {
     "data": {
      "text/plain": [
       "dict_values([422829, 463353, 432438])"
      ]
     },
     "execution_count": 32,
     "metadata": {},
     "output_type": "execute_result"
    }
   ],
   "source": [
    "\"Use the value() function to return values only\"\n",
    "counties_dict={}\n",
    "counties_dict[\"Arapahoe\"]=422829\n",
    "counties_dict[\"Denver\"]=463353\n",
    "counties_dict[\"Jefferson\"]=432438\n",
    "counties_dict.values()"
   ]
  },
  {
   "cell_type": "code",
   "execution_count": 33,
   "metadata": {},
   "outputs": [
    {
     "data": {
      "text/plain": [
       "463353"
      ]
     },
     "execution_count": 33,
     "metadata": {},
     "output_type": "execute_result"
    }
   ],
   "source": [
    "\"Use the get() function to get a specific value\"\n",
    "counties_dict={}\n",
    "counties_dict[\"Arapahoe\"]=422829\n",
    "counties_dict[\"Denver\"]=463353\n",
    "counties_dict[\"Jefferson\"]=432438\n",
    "counties_dict.get(\"Denver\")"
   ]
  },
  {
   "cell_type": "code",
   "execution_count": 34,
   "metadata": {},
   "outputs": [
    {
     "data": {
      "text/plain": [
       "422829"
      ]
     },
     "execution_count": 34,
     "metadata": {},
     "output_type": "execute_result"
    }
   ],
   "source": [
    "counties_dict={}\n",
    "counties_dict[\"Arapahoe\"]=422829\n",
    "counties_dict[\"Denver\"]=463353\n",
    "counties_dict[\"Jefferson\"]=432438\n",
    "counties_dict[\"Arapahoe\"]"
   ]
  },
  {
   "cell_type": "code",
   "execution_count": 52,
   "metadata": {},
   "outputs": [
    {
     "data": {
      "text/plain": [
       "[{'county': 'Arapahoe', 'registered_voters': 422829},\n",
       " {'county': 'Denver', 'registered_voters': 463353},\n",
       " {'county': 'Jefferson', 'registered_voters': 432438},\n",
       " {'county': 'El Paso', 'registered_voters': 461149}]"
      ]
     },
     "execution_count": 52,
     "metadata": {},
     "output_type": "execute_result"
    }
   ],
   "source": [
    "\"Create a list of dictionaries where the keys are county and values are registered voters\"\n",
    "voting_data=[]\n",
    "voting_data.append({\"county\":\"Arapahoe\",\"registered_voters\":422829})\n",
    "voting_data.append({\"county\":\"Denver\",\"registered_voters\":463353})\n",
    "voting_data.append({\"county\":\"Jefferson\",\"registered_voters\":432438})\n",
    "voting_data.append({\"county\":\"El Paso\",\"registered_voters\": 461149})\n",
    "voting_data"
   ]
  },
  {
   "cell_type": "code",
   "execution_count": 64,
   "metadata": {},
   "outputs": [
    {
     "data": {
      "text/plain": [
       "[{'county': 'Arapahoe', 'registered_voters': 422829},\n",
       " {'county': 'Denver', 'registered_voters': 463353},\n",
       " {'county': 'Jefferson', 'registered_voters': 432438},\n",
       " {'county': 'El Paso', 'registered_voters': 461149}]"
      ]
     },
     "execution_count": 64,
     "metadata": {},
     "output_type": "execute_result"
    }
   ],
   "source": [
    "voting_data=[]\n",
    "voting_data.append({\"county\":\"Arapahoe\",\"registered_voters\":422829})\n",
    "voting_data.append({\"county\":\"Denver\",\"registered_voters\":463353})\n",
    "voting_data.append({\"county\":\"Jefferson\",\"registered_voters\":432438}),voting_data.append({\"county\":\"El Paso\",\"registered_voters\": 461149})\n",
    "voting_data"
   ]
  },
  {
   "cell_type": "code",
   "execution_count": 74,
   "metadata": {},
   "outputs": [],
   "source": [
    "counties_dict={}\n",
    "counties_dict[\"Arapahoe\"]=422829\n",
    "counties_dict[\"Denver\"]=463353\n",
    "counties_dict[\"Jefferson\"]=432438\n",
    "len(counties_dict)\n",
    "\n",
    "if len(counties_dict)<2:\n",
    "    print(\"Elections are rigged\")"
   ]
  },
  {
   "cell_type": "code",
   "execution_count": 75,
   "metadata": {},
   "outputs": [
    {
     "name": "stdout",
     "output_type": "stream",
     "text": [
      "Denver\n"
     ]
    }
   ],
   "source": [
    "counties = [\"Arapahoe\",\"Denver\",\"Jefferson\"]\n",
    "if counties[1]==\"Denver\":\n",
    "    print(counties[1])\n",
    "    "
   ]
  },
  {
   "cell_type": "code",
   "execution_count": 1,
   "metadata": {},
   "outputs": [
    {
     "name": "stdout",
     "output_type": "stream",
     "text": [
      "El Paso is not in the list of counties\n"
     ]
    }
   ],
   "source": [
    "\"Using in/not in operator\"\n",
    "\n",
    "counties=[\"Arapahoe\",\"Denver\",\"Jefferson\"]\n",
    "if \"El Paso\" in counties:\n",
    "    print(\"El Paso is in the list of counties\")\n",
    "else:\n",
    "    print(\"El Paso is not in the list of counties\")\n"
   ]
  },
  {
   "cell_type": "code",
   "execution_count": 2,
   "metadata": {},
   "outputs": [
    {
     "name": "stdout",
     "output_type": "stream",
     "text": [
      "Arapahoe or El Paso is not in the list of countries\n"
     ]
    }
   ],
   "source": [
    "counties=[\"Arapahoe\",\"Denver\",\"Jefferson\"]\n",
    "\n",
    "if \"Arapahoe\" in counties and \"El Paso\" in counties:\n",
    "    print(\"Arapahoe and El Paso are in the list of counties\")\n",
    "else:\n",
    "    print(\"Arapahoe or El Paso is not in the list of countries\")"
   ]
  },
  {
   "cell_type": "code",
   "execution_count": 3,
   "metadata": {},
   "outputs": [
    {
     "name": "stdout",
     "output_type": "stream",
     "text": [
      "Arapahoe and El Paso are in the list of counties\n"
     ]
    }
   ],
   "source": [
    "counties=[\"Arapahoe\",\"Denver\",\"Jefferson\"]\n",
    "\n",
    "if \"Arapahoe\" in counties or \"El Paso\" in counties:\n",
    "    print(\"Arapahoe and El Paso are in the list of counties\")\n",
    "else:\n",
    "    print(\"Arapahoe or El Paso is not in the list of countries\")"
   ]
  },
  {
   "cell_type": "code",
   "execution_count": 4,
   "metadata": {},
   "outputs": [
    {
     "name": "stdout",
     "output_type": "stream",
     "text": [
      "Arapahoe\n",
      "Denver\n",
      "Jefferson\n"
     ]
    }
   ],
   "source": [
    "\" For--Count Controlled Condition\"\n",
    "for county in counties:\n",
    "    print(county)\n",
    "    "
   ]
  },
  {
   "cell_type": "code",
   "execution_count": 5,
   "metadata": {},
   "outputs": [
    {
     "name": "stdout",
     "output_type": "stream",
     "text": [
      "0\n",
      "1\n",
      "2\n",
      "3\n",
      "4\n"
     ]
    }
   ],
   "source": [
    "for num in range(5):\n",
    "    print(num)"
   ]
  },
  {
   "cell_type": "code",
   "execution_count": 6,
   "metadata": {},
   "outputs": [
    {
     "name": "stdout",
     "output_type": "stream",
     "text": [
      "Arapahoe\n",
      "Denver\n",
      "Jefferson\n"
     ]
    }
   ],
   "source": [
    "for i in range(len(counties)):\n",
    "    print(counties[i])"
   ]
  },
  {
   "cell_type": "code",
   "execution_count": null,
   "metadata": {},
   "outputs": [],
   "source": [
    "counties_tuple=(\"Arapahoe\", \"Denver\",\"Jefferson\")\n",
    "\n"
   ]
  },
  {
   "cell_type": "code",
   "execution_count": null,
   "metadata": {},
   "outputs": [],
   "source": [
    "counties_dict={}\n",
    "counties_dict[\"Arapahoe\"]=422829\n",
    "counties_dict[\"Denver\"]=463353\n",
    "counties_dict[\"Jefferson\"]=432438"
   ]
  },
  {
   "cell_type": "code",
   "execution_count": 1,
   "metadata": {},
   "outputs": [
    {
     "name": "stdout",
     "output_type": "stream",
     "text": [
      "Arapahoe county has 422829 registered voters\n",
      "Denver county has 463353 registered voters\n",
      "Jefferson county has 432438 registered voters\n"
     ]
    }
   ],
   "source": [
    "#Printing format: Using f-strings 1\n",
    "counties_dict={\"Arapahoe\": 422829, \"Denver\": 463353, \"Jefferson\": 432438}\n",
    "for county,voters in counties_dict.items():\n",
    "    print(f\"{county} county has {voters} registered voters\")"
   ]
  },
  {
   "cell_type": "code",
   "execution_count": 6,
   "metadata": {},
   "outputs": [
    {
     "name": "stdout",
     "output_type": "stream",
     "text": [
      "You received 3345 votes. The total number of votes in the election was 23123. You received 14.466115988409808 % of the total votes.\n"
     ]
    }
   ],
   "source": [
    "candidate_votes = 3345\n",
    "total_votes = 23123\n",
    "message_to_candidate = (\n",
    "    f\"You received {candidate_votes} votes. \"\n",
    "    f\"The total number of votes in the election was {total_votes}. \"\n",
    "    f\"You received {candidate_votes / total_votes * 100} % of the total votes.\")\n",
    "\n",
    "print(message_to_candidate)"
   ]
  },
  {
   "cell_type": "code",
   "execution_count": 8,
   "metadata": {},
   "outputs": [
    {
     "name": "stdout",
     "output_type": "stream",
     "text": [
      "You received 3345 votes. The total number of votes in the election was 23123. You received 14.466116 % of the total votes.\n"
     ]
    }
   ],
   "source": [
    "#Using f'{value:{width}.{precision}}\n",
    "#width : specifies the number of characters used to display value\n",
    "#Precision :indicates the number of decimal places to format the value\n",
    "\n",
    "candidate_votes = 3345\n",
    "total_votes = 23123\n",
    "message_to_candidate = (\n",
    "    f\"You received {candidate_votes} votes. \"\n",
    "    f\"The total number of votes in the election was {total_votes}. \"\n",
    "    f\"You received {candidate_votes / total_votes * 100:2f} % of the total votes.\")\n",
    "\n",
    "print(message_to_candidate)\n"
   ]
  },
  {
   "cell_type": "code",
   "execution_count": 17,
   "metadata": {},
   "outputs": [
    {
     "name": "stdout",
     "output_type": "stream",
     "text": [
      "Arapahoe county has 422.829 registered voters\n",
      "Denver county has 463.353 registered voters\n",
      "Jefferson county has 432.438 registered voters\n"
     ]
    }
   ],
   "source": [
    " counties_dict={\"Arapahoe\": 422829, \"Denver\": 463353, \"Jefferson\": 432438}\n",
    "for county,voters in counties_dict.items():\n",
    "    print(f\"{county} county has {voters/1000} registered voters\")"
   ]
  },
  {
   "cell_type": "code",
   "execution_count": 41,
   "metadata": {
    "scrolled": true
   },
   "outputs": [
    {
     "name": "stdout",
     "output_type": "stream",
     "text": [
      "Arapahoe has 422.829 registered voters\n",
      "Denver has 463.353 registered voters\n",
      "Jefferson has 432.438 registered voters\n",
      "El Paso has 461.149 registered voters\n"
     ]
    }
   ],
   "source": [
    "voting_data=[{\"county\":\"Arapahoe\",\"registered_voters\":422829},\n",
    " {\"county\":\"Denver\",\"registered_voters\":463353},\n",
    " {\"county\":\"Jefferson\",\"registered_voters\":432438},\n",
    " {\"county\":\"El Paso\",\"registered_voters\": 461149}]\n",
    "\n",
    "for county_dict in voting_data:\n",
    "\n",
    "     print(f\"{county_dict['county']} has {county_dict['registered_voters']/1000} registered voters\")\n",
    "\n",
    "\n"
   ]
  },
  {
   "cell_type": "code",
   "execution_count": null,
   "metadata": {},
   "outputs": [],
   "source": [
    "\n"
   ]
  }
 ],
 "metadata": {
  "kernelspec": {
   "display_name": "Python 3",
   "language": "python",
   "name": "python3"
  },
  "language_info": {
   "codemirror_mode": {
    "name": "ipython",
    "version": 3
   },
   "file_extension": ".py",
   "mimetype": "text/x-python",
   "name": "python",
   "nbconvert_exporter": "python",
   "pygments_lexer": "ipython3",
   "version": "3.8.5"
  }
 },
 "nbformat": 4,
 "nbformat_minor": 4
}
