{
 "cells": [
  {
   "cell_type": "code",
   "execution_count": 4,
   "metadata": {},
   "outputs": [
    {
     "name": "stdout",
     "output_type": "stream",
     "text": [
      "Question 1 works!\n",
      "Still missing out\n",
      "GOT QUESTION 3!\n",
      "Dan is in group three\n",
      "Can ride bumper cars\n"
     ]
    }
   ],
   "source": [
    " 1.\n",
    "x = 5\n",
    "y = 10\n",
    "if 2 * x >= 10:\n",
    "    print(\"Question 1 works!\")\n",
    "else:\n",
    "    print(\"oooo needs some work\")\n",
    "\n",
    "\n",
    "# 2.\n",
    "x = 5\n",
    "y = 10\n",
    "if len(\"Dog\") > x:\n",
    "    print(\"Question 2 works!\")\n",
    "else:\n",
    "    print(\"Still missing out\")\n",
    "\n",
    "# 3.\n",
    "x = 2\n",
    "y = 5\n",
    "if (x ** 3 >= y) and (y ** 2 < 26):\n",
    "    print(\"GOT QUESTION 3!\")\n",
    "else:\n",
    "    print(\"Oh good you can count\")\n",
    "\n",
    "# 4.\n",
    "name = \"Dan\"\n",
    "group_one = [\"Greg\", \"Tony\", \"Susan\"]\n",
    "group_two = [\"Gerald\", \"Paul\", \"Ryder\"]\n",
    "group_three = [\"Carla\", \"Dan\", \"Jefferson\"]\n",
    "\n",
    "if name in group_one:\n",
    "    print(name + \" is in the first group\")\n",
    "elif name in group_two:\n",
    "    print(name + \" is in group two\")\n",
    "elif name in group_three:\n",
    "    print(name + \" is in group three\")\n",
    "else:\n",
    "    print(name + \" does not have a group\")\n",
    "\n",
    "\n",
    "# 5.\n",
    "height = 66\n",
    "age = 16\n",
    "adult_permission = True\n",
    "\n",
    "if (height > 70) and (age >= 18):\n",
    "    print(\"Can ride all the roller coasters\")\n",
    "elif (height > 65) and (age >= 18):\n",
    "    print(\"Can ride moderate roller coasters\")\n",
    "elif (height > 60) and (age >= 18):\n",
    "    print(\"Can ride light roller coasters\")\n",
    "elif ((height > 50) and (age <= 18)) or ((adult_permission) and (height > 50)):\n",
    "    print(\"Can ride bumper cars\")\n",
    "else:\n",
    "    print(\"Stick to lazy river\")\n"
   ]
  },
  {
   "cell_type": "code",
   "execution_count": 34,
   "metadata": {},
   "outputs": [
    {
     "name": "stdout",
     "output_type": "stream",
     "text": [
      "Retired from Soccer\n"
     ]
    }
   ],
   "source": [
    "name1=\"John\"\n",
    "age=23\n",
    " \n",
    "if name1==\"John\" and age==25:\n",
    "    print(\"Soccer Player\") \n",
    "    \n",
    "else:\n",
    "    print(\"Retired from Soccer\")\n"
   ]
  },
  {
   "cell_type": "code",
   "execution_count": 30,
   "metadata": {},
   "outputs": [
    {
     "name": "stdout",
     "output_type": "stream",
     "text": [
      "Your name is John, and you are also 23 years old.\n",
      "Your name is either John or Rick.\n"
     ]
    }
   ],
   "source": [
    "name = \"John\"\n",
    "age = 23\n",
    "if name == \"John\" and age == 23:\n",
    "    print(\"Your name is John, and you are also 23 years old.\")\n",
    "\n",
    "if name == \"John\" or name == \"Rick\":\n",
    "    print(\"Your name is either John or Rick.\")"
   ]
  },
  {
   "cell_type": "code",
   "execution_count": 19,
   "metadata": {},
   "outputs": [
    {
     "name": "stdout",
     "output_type": "stream",
     "text": [
      "x does not equal two\n"
     ]
    }
   ],
   "source": [
    "x=2\n",
    "if x>2:\n",
    "    print(\"X equals two!\")\n",
    "else:\n",
    "    print(\"x does not equal two\")"
   ]
  },
  {
   "cell_type": "code",
   "execution_count": 37,
   "metadata": {},
   "outputs": [
    {
     "name": "stdout",
     "output_type": "stream",
     "text": [
      "False\n"
     ]
    }
   ],
   "source": [
    "counties=[\"Arapahoe\",\"Denver\",\"Jefferson\"]\n",
    "\n",
    "if len(counties)==2:\n",
    "    print(True)\n",
    "else:\n",
    "    print(False)"
   ]
  },
  {
   "cell_type": "code",
   "execution_count": 39,
   "metadata": {},
   "outputs": [
    {
     "name": "stdout",
     "output_type": "stream",
     "text": [
      "False Statement\n"
     ]
    }
   ],
   "source": [
    "counties = [\"Arapahoe\",\"Denver\",\"Jefferson\"]\n",
    "if counties[2]==\"Denver\":\n",
    "    print(counties[1])\n",
    "else:\n",
    "    print(\"False Statement\")"
   ]
  },
  {
   "cell_type": "code",
   "execution_count": 40,
   "metadata": {},
   "outputs": [
    {
     "name": "stdout",
     "output_type": "stream",
     "text": [
      "United States President.\n"
     ]
    }
   ],
   "source": [
    "president44=\"Barack_Obama\"\n",
    "\n",
    "if president44==\"Barack_Obama\":\n",
    "    print(\"United States President.\")\n",
    "\n",
    "elif president44!=\"Barack_Obama\":\n",
    "    print(\"Election Period\")\n",
    "else:\n",
    "    print(\"No Statement\")"
   ]
  },
  {
   "cell_type": "code",
   "execution_count": 41,
   "metadata": {},
   "outputs": [
    {
     "name": "stdout",
     "output_type": "stream",
     "text": [
      "No Statement\n"
     ]
    }
   ],
   "source": [
    "president44=\"Barack_Obama\"\n",
    "\n",
    "if president44==\"Donald_Trump\":\n",
    "    print(\"United States President.\")\n",
    "\n",
    "elif president44!=\"Barack_Obama\":\n",
    "    print(\"Election Period\")\n",
    "else:\n",
    "    print(\"No Statement\")"
   ]
  },
  {
   "cell_type": "code",
   "execution_count": 47,
   "metadata": {},
   "outputs": [
    {
     "name": "stdout",
     "output_type": "stream",
     "text": [
      "Turn on the AC\n"
     ]
    }
   ],
   "source": [
    "#What is the Temperature outside\n",
    "temperature=80\n",
    "\n",
    "if temperature==80:\n",
    "    print(\"Turn on the AC\")\n",
    "else:\n",
    "    print(\"It's a sunny day.\")\n",
    "    "
   ]
  },
  {
   "cell_type": "code",
   "execution_count": 56,
   "metadata": {},
   "outputs": [
    {
     "name": "stdout",
     "output_type": "stream",
     "text": [
      "B\n"
     ]
    }
   ],
   "source": [
    "#What is the score?\n",
    "grade=89\n",
    "\n",
    "if grade>=90:\n",
    "    print(\"A\")\n",
    "elif grade>=80:\n",
    "    print(\"B\")\n",
    "elif grade>=70:\n",
    "    print(\"C\")\n",
    "elif grade>=60:\n",
    "    print(\"D\")\n",
    "else:\n",
    "    print(\"Fail\")\n"
   ]
  },
  {
   "cell_type": "code",
   "execution_count": null,
   "metadata": {},
   "outputs": [],
   "source": []
  }
 ],
 "metadata": {
  "kernelspec": {
   "display_name": "Python 3",
   "language": "python",
   "name": "python3"
  },
  "language_info": {
   "codemirror_mode": {
    "name": "ipython",
    "version": 3
   },
   "file_extension": ".py",
   "mimetype": "text/x-python",
   "name": "python",
   "nbconvert_exporter": "python",
   "pygments_lexer": "ipython3",
   "version": "3.8.5"
  }
 },
 "nbformat": 4,
 "nbformat_minor": 4
}
